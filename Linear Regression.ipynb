{
  "nbformat": 4,
  "nbformat_minor": 0,
  "metadata": {
    "colab": {
      "name": "011171202.ipynb",
      "provenance": [],
      "include_colab_link": true
    },
    "kernelspec": {
      "name": "python3",
      "display_name": "Python 3"
    }
  },
  "cells": [
    {
      "cell_type": "markdown",
      "metadata": {
        "id": "view-in-github",
        "colab_type": "text"
      },
      "source": [
        "<a href=\"https://colab.research.google.com/github/shayedashraf/Introduction-to-Data-Science-/blob/master/Linear%20Regression.ipynb\" target=\"_parent\"><img src=\"https://colab.research.google.com/assets/colab-badge.svg\" alt=\"Open In Colab\"/></a>"
      ]
    },
    {
      "cell_type": "markdown",
      "metadata": {
        "id": "fCp1wDxLZOKn",
        "colab_type": "text"
      },
      "source": [
        "Linear Regression "
      ]
    },
    {
      "cell_type": "code",
      "metadata": {
        "id": "NhVnmxj7XQ2I",
        "colab_type": "code",
        "outputId": "16d6ff1b-76c2-4836-97d6-8af955d743d0",
        "colab": {
          "base_uri": "https://localhost:8080/",
          "height": 68
        }
      },
      "source": [
        "import pandas as pd\n",
        "train = pd.read_csv('train.csv')\n",
        "test = pd.read_csv('test.csv')\n",
        "train['xy'] = train['x']*train['y']\n",
        "train['xx'] = train['x']*train['x']\n",
        "xy = train['xy'].sum() - (len(train['x'])*train['x'].mean()*train['y'].mean())\n",
        "xx = train['xx'].sum() - (len(train['x'])*(train['x'].mean()**2))\n",
        "b1 = xy/xx\n",
        "print(b1)\n",
        "\n",
        "b0 = train['y'].mean() - (b1*train['x'].mean())\n",
        "print(b0)\n",
        "test['y1'] = b0 + (test['x']*b1)\n",
        "test['diff'] = (test['y'] - test['y1'])**2\n",
        "error = test['diff'].sum() / (2*len(test['x']))\n",
        "print(error)"
      ],
      "execution_count": 0,
      "outputs": [
        {
          "output_type": "stream",
          "text": [
            "1.0048368491845858\n",
            "-0.21953654997124517\n",
            "4.647846749996984\n"
          ],
          "name": "stdout"
        }
      ]
    },
    {
      "cell_type": "code",
      "metadata": {
        "id": "xvXYfgOMSKAa",
        "colab_type": "code",
        "outputId": "9add3643-b83c-4c69-f351-b5ce7dd018e9",
        "colab": {
          "base_uri": "https://localhost:8080/",
          "height": 34
        }
      },
      "source": [
        ""
      ],
      "execution_count": 0,
      "outputs": [
        {
          "output_type": "stream",
          "text": [
            "4.647846749996984\n"
          ],
          "name": "stdout"
        }
      ]
    },
    {
      "cell_type": "code",
      "metadata": {
        "id": "MqGBaZzXa83P",
        "colab_type": "code",
        "colab": {}
      },
      "source": [
        ""
      ],
      "execution_count": 0,
      "outputs": []
    }
  ]
}