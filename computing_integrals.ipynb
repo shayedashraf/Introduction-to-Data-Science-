{
  "nbformat": 4,
  "nbformat_minor": 0,
  "metadata": {
    "colab": {
      "name": "Sl_computing_integrals.ipynb",
      "provenance": [],
      "authorship_tag": "ABX9TyNUF8Qcn4dHb96J58lFf44B",
      "include_colab_link": true
    },
    "kernelspec": {
      "name": "python3",
      "display_name": "Python 3"
    }
  },
  "cells": [
    {
      "cell_type": "markdown",
      "metadata": {
        "id": "view-in-github",
        "colab_type": "text"
      },
      "source": [
        "<a href=\"https://colab.research.google.com/github/shayedashraf/Introduction-to-Data-Science-/blob/master/computing_integrals.ipynb\" target=\"_parent\"><img src=\"https://colab.research.google.com/assets/colab-badge.svg\" alt=\"Open In Colab\"/></a>"
      ]
    },
    {
      "cell_type": "markdown",
      "metadata": {
        "id": "Ak-3YeKRHPfE",
        "colab_type": "text"
      },
      "source": [
        "Computing Integrals"
      ]
    },
    {
      "cell_type": "code",
      "metadata": {
        "id": "NP4siFqT5o_B",
        "colab_type": "code",
        "outputId": "8bd26076-9aac-40a6-b834-e597d8325d5d",
        "colab": {
          "base_uri": "https://localhost:8080/",
          "height": 299
        }
      },
      "source": [
        "import random\n",
        "import matplotlib.pyplot as plt\n",
        "import numpy as np\n",
        "import decimal\n",
        "\n",
        "n=10000\n",
        "a=1\n",
        "b=3\n",
        "sum=0\n",
        "sum1=0\n",
        "for i in range(0,n,1):\n",
        "  x=random.uniform(a,b)\n",
        "  f=2*x+3\n",
        "  f1=f*f\n",
        "  sum=sum+f\n",
        "  sum1=sum1+f1\n",
        "\n",
        "avg=sum/n\n",
        "avg1=sum1/n\n",
        "int_value=(b-a)*avg\n",
        "print(\"integration value \",int_value)\n",
        "error=((b-a)/(n**0.5))*((avg1-avg**2)**0.5)*100\n",
        "print(error,\"%\")\n",
        "\n",
        "n=[10,100,1000,10000]\n",
        "error=[0.7248,0.2446,0.0715,0.0229]\n",
        "y=np.arange(len(n))\n",
        "plt.bar(y,error,align='center',alpha=0.5)\n",
        "plt.xticks(y,n)\n",
        "plt.ylim=(0.01,7)\n",
        "plt.xlabel=('n')\n",
        "plt.ylabel=('error')\n",
        "\n",
        "\n",
        "\n",
        "\n"
      ],
      "execution_count": 0,
      "outputs": [
        {
          "output_type": "stream",
          "text": [
            "integration value  14.015832099781491\n",
            "2.3149112114469856 %\n"
          ],
          "name": "stdout"
        },
        {
          "output_type": "display_data",
          "data": {
            "image/png": "[encoded data removed]",
            "text/plain": [
              "<Figure size 432x288 with 1 Axes>"
            ]
          },
          "metadata": {
            "tags": []
          }
        }
      ]
    },
    {
      "cell_type": "code",
      "metadata": {
        "id": "iZe_1M96A3aA",
        "colab_type": "code",
        "outputId": "b27d6781-5ce6-4d22-8c93-08524676d32d",
        "colab": {
          "base_uri": "https://localhost:8080/",
          "height": 299
        }
      },
      "source": [
        "#@title Area estimation { form-width: \"200px\" }\n",
        "import random\n",
        "import matplotlib.pyplot as plt\n",
        "import numpy as np\n",
        "import decimal\n",
        "\n",
        "n=10000\n",
        "a=0\n",
        "b=5\n",
        "sum=0\n",
        "sum1=0\n",
        "for i in range(0,n,1):\n",
        "  x=random.uniform(a,b)\n",
        "  f=(25-x**2)**.5\n",
        "  f1=f*f\n",
        "  sum=sum+f\n",
        "  sum1=sum1+f1\n",
        "\n",
        "avg=sum/n\n",
        "avg1=sum1/n\n",
        "int_value=(b-a)*avg*4\n",
        "print(\"integration value \",int_value)\n",
        "error=((b-a)/(n**0.5))*((avg1-avg**2)**0.5)*100\n",
        "print(error,\"%\")\n",
        "\n",
        "n=[10,100,1000,10000]\n",
        "error=[17.2479,5.0043,1.6281,0.5164]\n",
        "y=np.arange(len(n))\n",
        "plt.bar(y,error,align='center',alpha=0.6)\n",
        "plt.xticks(y,n)\n",
        "plt.ylim=(0.01,7)\n",
        "plt.xlabel=('n')\n",
        "plt.ylabel=('error')"
      ],
      "execution_count": 0,
      "outputs": [
        {
          "output_type": "stream",
          "text": [
            "integration value  78.60933567311385\n",
            "5.556889566674015 %\n"
          ],
          "name": "stdout"
        },
        {
          "output_type": "display_data",
          "data": {
            "image/png": "[encoded data removed]",
            "text/plain": [
              "<Figure size 432x288 with 1 Axes>"
            ]
          },
          "metadata": {
            "tags": []
          }
        }
      ]
    }
  ]
}