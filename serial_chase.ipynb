{
  "nbformat": 4,
  "nbformat_minor": 0,
  "metadata": {
    "colab": {
      "name": "serial chase.ipynb",
      "provenance": [],
      "authorship_tag": "ABX9TyMdoBeEJwzHcTiMrX4XM5y2",
      "include_colab_link": true
    },
    "kernelspec": {
      "name": "python3",
      "display_name": "Python 3"
    }
  },
  "cells": [
    {
      "cell_type": "markdown",
      "metadata": {
        "id": "view-in-github",
        "colab_type": "text"
      },
      "source": [
        "<a href=\"https://colab.research.google.com/github/shayedashraf/Introduction-to-Data-Science-/blob/master/serial_chase.ipynb\" target=\"_parent\"><img src=\"https://colab.research.google.com/assets/colab-badge.svg\" alt=\"Open In Colab\"/></a>"
      ]
    },
    {
      "cell_type": "code",
      "metadata": {
        "id": "dMKy2CQHJ4_z",
        "colab_type": "code",
        "outputId": "cd3b18aa-a932-46e9-8ad2-29486f828848",
        "colab": {
          "base_uri": "https://localhost:8080/",
          "height": 402
        }
      },
      "source": [
        "import math\n",
        "x_t=[100,110,120,129,140,149,158,168,179,188,198,209,219]\n",
        "y_t=[0,3,6,10,15,20,26,32,37,34,30,27,23]\n",
        "x_d=[0]\n",
        "y_d=[60]\n",
        "x_a=[10]\n",
        "y_a=[150]\n",
        "s=20\n",
        "s_a=30\n",
        "t=0\n",
        "distance=math.sqrt((x_t[0]-x_d[0])**2+(y_t[0]-y_d[0])**2)\n",
        "distance_a=math.sqrt((x_d[0]-x_a[0])**2+(y_d[0]-y_a[0])**2)\n",
        "for t in range(1,13):\n",
        "   sin=(y_t[t-1]-y_d[t-1])/distance\n",
        "   cos=(x_t[t-1]-x_d[t-1])/distance\n",
        "\n",
        "   sin_a=(y_d[t-1]-y_a[t-1])/distance_a\n",
        "   cos_a=(x_d[t-1]-x_a[t-1])/distance_a\n",
        "\n",
        "   xd_t=x_d[t-1]+s*cos\n",
        "   yd_t=y_d[t-1]+s*sin\n",
        "   x_d.append(xd_t)\n",
        "   y_d.append(yd_t)\n",
        "\n",
        "   xa_t=x_a[t-1]+s_a*cos_a\n",
        "   ya_t=y_a[t-1]+s_a*sin_a\n",
        "   x_a.append(xa_t)\n",
        "   y_a.append(ya_t)\n",
        "\n",
        "   distance=math.sqrt((x_t[t]-x_d[t])**2+(y_t[t]-y_d[t])**2)\n",
        "   distance_a=math.sqrt((x_d[t]-x_a[t])**2+(y_d[t]-y_a[t])**2)\n",
        "\n",
        "   if distance_a<10:\n",
        "     print(\"A hits D at time\"+\" \"+str(t))\n",
        "   elif distance<10:\n",
        "     print(\"D hits T at time\"+\" \"+str(t))\n",
        "print(x_a)\n",
        "print(y_a)\n",
        "print(x_d)\n",
        "print(y_d)\n",
        "\n",
        "import matplotlib.pyplot as plt\n",
        "plt.plot(x_a,y_a,x_d,y_d,x_t,y_t)\n",
        "plt.show()"
      ],
      "execution_count": 1,
      "outputs": [
        {
          "output_type": "stream",
          "text": [
            "A hits D at time 7\n",
            "D hits T at time 10\n",
            "D hits T at time 11\n",
            "[10, 6.6870542177546035, 11.0927022526912, 24.086133663903937, 44.989543279889475, 71.4971342748767, 100.9046917546838, 130.8835218379561, 156.01586520378117, 145.24757484957598, 167.57938511683395, 197.41692358701053, 219.27186447285933]\n",
            "[150, 120.18348795979144, 90.50874675801751, 63.468577746672366, 41.95004000763622, 27.901993181031745, 21.96940832518332, 23.096238764197288, 39.47809815018485, 11.477313824606902, 31.50954410950509, 34.6274437295591, 14.076006824173266]\n",
            "[0, 17.149858514250884, 35.01641115673864, 53.53071140145425, 72.6508284793503, 92.32589472576817, 112.28340693274177, 132.2215856640328, 151.7359467869743, 170.7992953406546, 190.79394651538675, 208.34694526554927, 213.13134071918734]\n",
            "[60, 49.71008489144947, 40.721965139620735, 33.15752950644071, 27.29057774870928, 23.700066893821308, 22.397106223463226, 23.96842060292196, 28.349026721192537, 34.39788958299515, 33.935369960944364, 24.349326205734727, 43.76863515696179]\n"
          ],
          "name": "stdout"
        },
        {
          "output_type": "display_data",
          "data": {
            "image/png": "[encoded data removed]",
            "text/plain": [
              "<Figure size 432x288 with 1 Axes>"
            ]
          },
          "metadata": {
            "tags": []
          }
        }
      ]
    }
  ]
}